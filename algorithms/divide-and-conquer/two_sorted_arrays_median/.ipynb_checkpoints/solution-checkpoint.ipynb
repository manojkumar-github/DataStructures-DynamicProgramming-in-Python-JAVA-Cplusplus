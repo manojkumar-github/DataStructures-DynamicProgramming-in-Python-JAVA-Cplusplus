{
 "cells": [
  {
   "cell_type": "markdown",
   "metadata": {},
   "source": [
    "There are 2 sorted arrays A and B of size n each. \n",
    "\n",
    "Write an algorithm to find the median of the array obtained after merging the above 2 arrays(i.e. array of length 2n). The complexity should be O(log(n))"
   ]
  },
  {
   "cell_type": "markdown",
   "metadata": {},
   "source": [
    "Brute Force - O(n) using merge sort"
   ]
  },
  {
   "cell_type": "markdown",
   "metadata": {},
   "source": [
    "    - Idea: \n",
    "        - Divide and Conquer\n",
    "        - Get m1 of arr1 and m2 of arr2\n",
    "        - For current_array_size > 2:\n",
    "                if m1> m2:\n",
    "                    left half of m1 and right half of m2\n",
    "                  elif m2>m1:\n",
    "                    left half of m2 and right half of m1\n",
    "                  else:\n",
    "                    return m1\n",
    "        - For current_array_size = 2: (this is a short cut for sorting and taking mean)\n",
    "            - Formula (max(arr1[0], arr1[0]) + min(arr1[1], arr2[1])) /2\n",
    "        - For size <= 1: sum(arr1, arr2)/2\n",
    "    - Time ComplexityO(log(n))\n",
    "    - Space Complexity O(2n)\n",
    "     "
   ]
  },
  {
   "cell_type": "code",
   "execution_count": 41,
   "metadata": {},
   "outputs": [],
   "source": [
    "def get_median(arr, n):\n",
    "    # this function will not be called for size <2\n",
    "    if n%2 == 0:\n",
    "        # even\n",
    "        return (arr[n//2] + arr[(n+1)//2]) / 2\n",
    "    else:\n",
    "        # odd\n",
    "        return arr[n//2]\n",
    "    \n",
    "def median_of_two_sorted_arrays(arr1, arr2):\n",
    "    \"\"\"\n",
    "    Assumption: Both arrays are of equal size\n",
    "    \"\"\"\n",
    "    n = len(arr1)\n",
    "    if n > 2:\n",
    "        m1 = get_median(arr1, n)\n",
    "        m2 = get_median(arr2, n)\n",
    "        \n",
    "        if m1 > m2:\n",
    "            return median_of_two_sorted_arrays(arr1[:(n//2 + 1)], arr2[n//2:])\n",
    "        elif m1 < m2:\n",
    "            return median_of_two_sorted_arrays(arr1[n//2:], arr2[:(n//2 + 1)])\n",
    "        else:\n",
    "            return m1\n",
    "    elif n == 2:\n",
    "        return (max(arr1[0], arr2[0]) + min(arr1[1], arr2[1]))/2\n",
    "    else:\n",
    "        return sum(arr1 + arr2)/2"
   ]
  },
  {
   "cell_type": "code",
   "execution_count": 77,
   "metadata": {},
   "outputs": [
    {
     "name": "stdout",
     "output_type": "stream",
     "text": [
      "16.0\n"
     ]
    }
   ],
   "source": [
    "arr1 = [1,2,15,26,38]\n",
    "arr2 = [2, 13, 17, 30, 45]\n",
    "print(median_of_two_sorted_arrays(arr1, arr2))"
   ]
  },
  {
   "cell_type": "code",
   "execution_count": 44,
   "metadata": {},
   "outputs": [
    {
     "name": "stdout",
     "output_type": "stream",
     "text": [
      "5.0\n"
     ]
    }
   ],
   "source": [
    "arr1 = [1, 2, 3, 6] \n",
    "arr2 = [4, 6, 8, 10]\n",
    "print(median_of_two_sorted_arrays(arr1, arr2))"
   ]
  },
  {
   "cell_type": "markdown",
   "metadata": {},
   "source": [
    "#### What if different size?"
   ]
  },
  {
   "cell_type": "markdown",
   "metadata": {},
   "source": [
    "Ref: https://www.youtube.com/watch?v=LPFhl65R7ww&t=487s"
   ]
  },
  {
   "cell_type": "code",
   "execution_count": 106,
   "metadata": {},
   "outputs": [],
   "source": [
    "def median_two_diff_size_arr_helper(arr1, arr2, start, end, N):\n",
    "    pos_x = (start + end)//2\n",
    "    pos_y = N - pos_x\n",
    "    print(pos_x, pos_y)\n",
    "    left_x = arr1[:pos_x]\n",
    "    right_x = arr1[pos_x:]\n",
    "    left_y = arr2[:pos_y]\n",
    "    right_y = arr2[pos_y:]\n",
    "    print(left_x, right_x)\n",
    "    print(left_y, right_y)\n",
    "    print(N)\n",
    "    print(\"-----\\n\")\n",
    "    \n",
    "    if (left_x[-1] <= right_y[0]) & (left_y[-1] <= right_x[0]):\n",
    "        # Found\n",
    "        if (len(arr1) + len(arr2)) %2 == 0:\n",
    "            # even\n",
    "            print(\"even\")\n",
    "            return (max(left_x[-1], left_y[-1]) + min(right_x[0], right_y[0])) / 2\n",
    "        else:\n",
    "            print(\"odd\")\n",
    "            return max(left_x[-1], right_y[0])\n",
    "    elif left_x[-1] < right_y[0]:\n",
    "        # move towards right in arr1\n",
    "        return median_two_diff_size_arr_helper(arr1, arr2, pos_x, end, N)\n",
    "            \n",
    "    else:\n",
    "        # move towards left in arr1\n",
    "        return median_two_diff_size_arr_helper(arr1, arr2, start, pos_x-1, N)\n",
    "\n",
    "\n",
    "def two_sorted_arrays_of_diff_size(arr1, arr2):\n",
    "    \n",
    "    N = len(arr1+arr2)//2\n",
    "    \n",
    "    start = 0\n",
    "    end = len(arr1)\n",
    "    return median_two_diff_size_arr_helper(arr1, arr2, start, end, N)\n"
   ]
  },
  {
   "cell_type": "code",
   "execution_count": 107,
   "metadata": {},
   "outputs": [
    {
     "name": "stdout",
     "output_type": "stream",
     "text": [
      "2 2\n",
      "[1, 2] [3, 6]\n",
      "[4, 6] [8, 10]\n",
      "4\n",
      "-----\n",
      "\n",
      "3 1\n",
      "[1, 2, 3] [6]\n",
      "[4] [6, 8, 10]\n",
      "4\n",
      "-----\n",
      "\n",
      "even\n",
      "5.0\n"
     ]
    }
   ],
   "source": [
    "arr1 = [1, 2, 3, 6] \n",
    "arr2 = [4, 6, 8, 10]\n",
    "print(two_sorted_arrays_of_diff_size(arr1, arr2))"
   ]
  },
  {
   "cell_type": "code",
   "execution_count": 108,
   "metadata": {},
   "outputs": [
    {
     "name": "stdout",
     "output_type": "stream",
     "text": [
      "2 3\n",
      "[1, 2] [15, 26, 38]\n",
      "[2, 13, 17] [30, 45]\n",
      "5\n",
      "-----\n",
      "\n",
      "3 2\n",
      "[1, 2, 15] [26, 38]\n",
      "[2, 13] [17, 30, 45]\n",
      "5\n",
      "-----\n",
      "\n",
      "even\n",
      "16.0\n"
     ]
    }
   ],
   "source": [
    "arr1 = [1,2,15,26,38]\n",
    "arr2 = [2, 13, 17, 30, 45]\n",
    "print(two_sorted_arrays_of_diff_size(arr1, arr2))"
   ]
  },
  {
   "cell_type": "code",
   "execution_count": null,
   "metadata": {},
   "outputs": [],
   "source": [
    "Test Cases - Even, Odd"
   ]
  },
  {
   "cell_type": "markdown",
   "metadata": {},
   "source": [
    "Other possible questions\n",
    " - Medians of unsorted array\n",
    " - Median of two unsorted arrays (test case - even-odd, even-even, odd-odd, odd-even)"
   ]
  },
  {
   "cell_type": "code",
   "execution_count": null,
   "metadata": {},
   "outputs": [],
   "source": []
  }
 ],
 "metadata": {
  "kernelspec": {
   "display_name": "Python 3",
   "language": "python",
   "name": "python3"
  },
  "language_info": {
   "codemirror_mode": {
    "name": "ipython",
    "version": 3
   },
   "file_extension": ".py",
   "mimetype": "text/x-python",
   "name": "python",
   "nbconvert_exporter": "python",
   "pygments_lexer": "ipython3",
   "version": "3.6.8"
  }
 },
 "nbformat": 4,
 "nbformat_minor": 2
}
