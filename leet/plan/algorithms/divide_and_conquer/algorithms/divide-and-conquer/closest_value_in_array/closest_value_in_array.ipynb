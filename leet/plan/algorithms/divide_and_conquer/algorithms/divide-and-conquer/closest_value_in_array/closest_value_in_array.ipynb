{
 "cells": [
  {
   "cell_type": "markdown",
   "metadata": {},
   "source": [
    "Given an array of sorted integers. We need to find the closest value to the given number. Array may contain duplicate values and negative numbers.\n",
    "\n",
    "Input : arr[] = {1, 2, 4, 5, 6, 6, 8, 9}\n",
    "             Target number = 11\n",
    "Output : 9\n",
    "\n",
    "9 is closest to 11 in given array"
   ]
  },
  {
   "cell_type": "markdown",
   "metadata": {},
   "source": [
    "Idea: \n",
    "    - Merely an extension to Binary Search Idea\n",
    "    - check if value is greater than middle element\n",
    "       - then the value is in the right half\n",
    "    - check if value is lesser than the middle element\n",
    "       - then the value is in the left half\n",
    "    - check if value is equal to the middle, then return\n",
    "    - when length is 2, then get the number which has minimum absolute difference\n",
    "    "
   ]
  },
  {
   "cell_type": "code",
   "execution_count": 8,
   "metadata": {},
   "outputs": [
    {
     "name": "stdout",
     "output_type": "stream",
     "text": [
      "9\n"
     ]
    }
   ],
   "source": [
    "def closest_value_in_array(arr, val):\n",
    "    \"\"\"\n",
    "    \"\"\"\n",
    "    if val >= arr[-1]:\n",
    "        return arr[-1]\n",
    "    if val <= arr[0]:\n",
    "        return arr[0]\n",
    "    \n",
    "    N = len(arr)\n",
    "    if N==0:\n",
    "        return None\n",
    "    elif N==1:\n",
    "        return arr[0]\n",
    "    else:\n",
    "        if val >= arr[-1]:\n",
    "            return arr[-1]\n",
    "        if val <= arr[0]:\n",
    "            return arr[0]\n",
    "\n",
    "        if N == 2:\n",
    "            left = abs(val-arr[0])\n",
    "            right = abs(val-arr[1])\n",
    "            if left >= right:\n",
    "                return arr[1]\n",
    "            else:\n",
    "                return arr[0]\n",
    "        else:\n",
    "            mid_index = len(arr)//2\n",
    "            if val > arr[mid_index]:\n",
    "                return closest_value_in_array(arr[mid_index:], val)\n",
    "            elif val < arr[mid_index]:\n",
    "                return closest_value_in_array(arr[: mid_index+1], val)\n",
    "            else:\n",
    "                return val\n",
    "\n",
    "        \n",
    "print(closest_value_in_array([1, 2, 4, 5, 6, 6, 8, 9], 11))"
   ]
  },
  {
   "cell_type": "code",
   "execution_count": null,
   "metadata": {},
   "outputs": [],
   "source": []
  }
 ],
 "metadata": {
  "kernelspec": {
   "display_name": "Python 3",
   "language": "python",
   "name": "python3"
  },
  "language_info": {
   "codemirror_mode": {
    "name": "ipython",
    "version": 3
   },
   "file_extension": ".py",
   "mimetype": "text/x-python",
   "name": "python",
   "nbconvert_exporter": "python",
   "pygments_lexer": "ipython3",
   "version": "3.6.8"
  }
 },
 "nbformat": 4,
 "nbformat_minor": 2
}
